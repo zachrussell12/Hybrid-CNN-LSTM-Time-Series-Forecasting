{
  "nbformat": 4,
  "nbformat_minor": 0,
  "metadata": {
    "colab": {
      "provenance": [],
      "collapsed_sections": [
        "Pkq6kL2FpBlI",
        "WduRn5QDykZn",
        "Bbei963grWRG",
        "6SjlMXmh_T2K",
        "nvz8oWK1reyn",
        "YYDcLkSNvypC",
        "SMNAXyO23l3G",
        "_tl_cJeZFiJB"
      ]
    },
    "kernelspec": {
      "name": "python3",
      "display_name": "Python 3"
    },
    "language_info": {
      "name": "python"
    }
  },
  "cells": [
    {
      "cell_type": "markdown",
      "source": [
        "#Import Libraries for Data Processing"
      ],
      "metadata": {
        "id": "Pkq6kL2FpBlI"
      }
    },
    {
      "cell_type": "code",
      "execution_count": null,
      "metadata": {
        "id": "GMrqKSTBozWl"
      },
      "outputs": [],
      "source": [
        "import pandas as pd\n",
        "import numpy as np\n",
        "from sklearn.preprocessing import MinMaxScaler, LabelEncoder, StandardScaler"
      ]
    },
    {
      "cell_type": "markdown",
      "source": [
        "#Read In Data"
      ],
      "metadata": {
        "id": "WduRn5QDykZn"
      }
    },
    {
      "cell_type": "code",
      "source": [
        "train_data = pd.read_csv('train.csv')\n",
        "oil_data = pd.read_csv(\"oil.csv\")\n",
        "store_data = pd.read_csv(\"stores.csv\")\n",
        "transactions_data = pd.read_csv(\"transactions.csv\")\n",
        "holiday_events_data = pd.read_csv(\"holidays_events.csv\")"
      ],
      "metadata": {
        "id": "nBJ-jTrWyj7b"
      },
      "execution_count": null,
      "outputs": []
    },
    {
      "cell_type": "markdown",
      "source": [
        "#Build Training Data and Collect Features"
      ],
      "metadata": {
        "id": "tUD74tZNqW4C"
      }
    },
    {
      "cell_type": "code",
      "source": [
        "#PRE-PROCESSING TRAINING DATA\n",
        "\n",
        "grouped_sales = train_data.pivot_table(index=['date', 'store_nbr'], columns='family', values='sales', aggfunc='sum')\n",
        "\n",
        "grouped_sales.columns = [f'{column}_SALES' for column in grouped_sales.columns]\n",
        "\n",
        "grouped_onpromotion = train_data.pivot_table(index=['date', 'store_nbr'], columns='family', values='onpromotion', aggfunc='sum')\n",
        "\n",
        "grouped_onpromotion.columns = [f'{column}_ONPROMOTION' for column in grouped_onpromotion.columns]\n",
        "\n",
        "cleaned_train_data = pd.concat([grouped_sales, grouped_onpromotion], axis=1).reset_index()\n",
        "\n",
        "cleaned_train_data['date'] = pd.to_datetime(cleaned_train_data['date'])\n",
        "\n",
        "#PRE-PROCESSING OIL DATA\n",
        "\n",
        "oil_data['date'] = pd.to_datetime(oil_data['date'])\n",
        "\n",
        "oil_data.set_index('date', inplace=True)\n",
        "\n",
        "date_range = pd.date_range(start='2013-01-01', end='2017-08-31', freq='D')\n",
        "\n",
        "oil_data = oil_data.reindex(date_range)\n",
        "\n",
        "mean_oil_price_na = oil_data['dcoilwtico'].rolling(window=15, center=True, min_periods=1).mean()\n",
        "\n",
        "oil_data['dcoilwtico'].fillna(mean_oil_price_na, inplace=True)\n",
        "\n",
        "oil_data.reset_index(inplace=True)\n",
        "oil_data.rename(columns={'index': 'date'}, inplace=True)\n",
        "\n",
        "#MERGING OIL DATA COLUMNS\n",
        "\n",
        "cleaned_train_data = pd.merge(cleaned_train_data, oil_data, on='date', how='left')\n",
        "\n",
        "#MERGING STORE DATA COLUMNS\n",
        "\n",
        "#Using left join to retain all the values from cleaned_train_data and just add the values from store_data to it\n",
        "cleaned_train_data = pd.merge(cleaned_train_data, store_data, on='store_nbr', how='left')\n",
        "\n",
        "#PRE-PROCESSING HOLIDAY EVENTS DATA\n",
        "\n",
        "holiday_events_data['date'] = pd.to_datetime(holiday_events_data['date'])\n",
        "\n",
        "#HOLIDAY EVENTS DATA PROCESSING\n",
        "\n",
        "#Using the dates given in holiday events dataset and ignoring the number to then mark which days in the training dataset have holidays on them.\n",
        "\n",
        "holiday_events_data['date'] = pd.to_datetime(holiday_events_data['date'])\n",
        "\n",
        "holiday_events_data['month_day'] = holiday_events_data['date'].dt.strftime('%m-%d')\n",
        "cleaned_train_data['month_day'] = cleaned_train_data['date'].dt.strftime('%m-%d')\n",
        "\n",
        "holiday_month_days = set(holiday_events_data['month_day'])\n",
        "\n",
        "cleaned_train_data['has_holiday'] = cleaned_train_data['month_day'].apply(lambda x: 1 if x in holiday_month_days else 0)\n",
        "\n",
        "cleaned_train_data.drop('month_day', axis=1, inplace=True)\n",
        "\n",
        "#Also using holiday dates to count the days until the next day in order to capture the correlation between the ramp up in sales to the occurence of the holiday. The holiday metric above isn't cutting it. Going to use a falg of three days, 1 week, and 2 weeks.\n",
        "\n",
        "holiday_dates = cleaned_train_data[cleaned_train_data['has_holiday'] == 1]['date'].unique()\n",
        "\n",
        "cleaned_train_data['three_days_before_holiday'] = 0\n",
        "cleaned_train_data['one_week_before_holiday'] = 0\n",
        "cleaned_train_data['two_weeks_before_holiday'] = 0\n",
        "cleaned_train_data['three_weeks_before_holiday'] = 0\n",
        "\n",
        "for holiday in holiday_dates:\n",
        "    three_days_before = holiday - pd.Timedelta(days=3)\n",
        "    one_week_before = holiday - pd.Timedelta(days=7)\n",
        "    two_weeks_before = holiday - pd.Timedelta(days=14)\n",
        "    three_weeks_before = holiday - pd.Timedelta(days=21)\n",
        "\n",
        "    mask_three_days = (cleaned_train_data['date'] >= three_days_before) & (cleaned_train_data['date'] < holiday)\n",
        "    cleaned_train_data.loc[mask_three_days, 'three_days_before_holiday'] = 1\n",
        "\n",
        "    mask_one_week = (cleaned_train_data['date'] >= one_week_before) & (cleaned_train_data['date'] < holiday)\n",
        "    cleaned_train_data.loc[mask_one_week, 'one_week_before_holiday'] = 1\n",
        "\n",
        "    mask_two_weeks = (cleaned_train_data['date'] >= two_weeks_before) & (cleaned_train_data['date'] < one_week_before)\n",
        "    cleaned_train_data.loc[mask_two_weeks, 'two_weeks_before_holiday'] = 1\n",
        "\n",
        "    mask_three_weeks = (cleaned_train_data['date'] >= three_weeks_before) & (cleaned_train_data['date'] < two_weeks_before)\n",
        "    cleaned_train_data.loc[mask_three_weeks, 'three_weeks_before_holiday'] = 1\n",
        "\n",
        "cleaned_train_data.loc[cleaned_train_data['has_holiday'] == 1, ['three_days_before_holiday', 'one_week_before_holiday', 'two_weeks_before_holiday', 'three_weeks_before_holiday']] = 0\n",
        "\n",
        "#CONVERTING DATE INTO SEPERATE FEATURES\n",
        "cleaned_train_data['dow'] = cleaned_train_data['date'].dt.dayofweek\n",
        "cleaned_train_data['month'] = cleaned_train_data['date'].dt.month\n",
        "cleaned_train_data['num_date'] = cleaned_train_data['date'].dt.day\n",
        "cleaned_train_data['year'] = cleaned_train_data['date'].dt.year\n",
        "\n",
        "#USING LABEL ENCODING TO CONVERT STORE LOCATIONS AND HOLIDAY LOCATIONS INTO NUMERICAL REPRESENTATIONS\n",
        "label_encoder = LabelEncoder()\n",
        "label_encoder.fit(pd.concat([cleaned_train_data['city'], cleaned_train_data['state']]))\n",
        "\n",
        "cleaned_train_data['city'] = label_encoder.transform(cleaned_train_data['city'])\n",
        "cleaned_train_data['state'] = label_encoder.transform(cleaned_train_data['state'])\n",
        "\n",
        "#USING LABEL ENCODING TO CONVERT STORE TYPE TO A NUMERICAL REPRESENTATION\n",
        "cleaned_train_data['type'] = LabelEncoder().fit_transform(cleaned_train_data['type'])\n",
        "\n",
        "#One-Hot Encoding Store Nbr to avoid possible relationships from forming when training model\n",
        "cleaned_train_data = pd.get_dummies(cleaned_train_data, columns=['store_nbr'])"
      ],
      "metadata": {
        "id": "oX9aIYz_qdKE"
      },
      "execution_count": null,
      "outputs": []
    },
    {
      "cell_type": "markdown",
      "source": [
        "#Split Data and Scale X & Y Data to prepare for training"
      ],
      "metadata": {
        "id": "-4QnOdPtJvFt"
      }
    },
    {
      "cell_type": "code",
      "source": [
        "print(\"# OF TIMESTEPS IN DATA: \", (len(cleaned_train_data)/54))\n",
        "\n",
        "y_columns = [column for column in cleaned_train_data.columns if column.endswith(\"_SALES\")]\n",
        "\n",
        "y = cleaned_train_data[y_columns]\n",
        "\n",
        "X = cleaned_train_data.drop(y_columns + ['date'], axis=1)\n",
        "\n",
        "x_data_scaler = MinMaxScaler()\n",
        "y_data_scaler = MinMaxScaler()\n",
        "\n",
        "scaled_X_train = x_data_scaler.fit_transform(X)\n",
        "\n",
        "scaled_Y_train = y_data_scaler.fit_transform(y)\n",
        "\n",
        "print(\"SHAPE OF X before timestep reshaping:\", scaled_X_train.shape)\n",
        "print(\"SHAPE OF y before timestep reshaping:\", scaled_Y_train.shape)\n",
        "\n",
        "scaled_X_train = scaled_X_train.reshape(((int(len(cleaned_train_data)/54)), 54, scaled_X_train.shape[1]))\n",
        "scaled_Y_train = scaled_Y_train.reshape(((int(len(cleaned_train_data)/54)), 54, scaled_Y_train.shape[1]))\n",
        "\n",
        "print(\"SHAPE OF scaled_X_train after timestep reshaping:\", scaled_X_train.shape)\n",
        "print(\"SHAPE OF scaled_Y_train after timestep reshaping:\", scaled_Y_train.shape)"
      ],
      "metadata": {
        "colab": {
          "base_uri": "https://localhost:8080/"
        },
        "id": "v2wKavOOcq1b",
        "outputId": "29ad1632-7809-4453-bd59-f633b70b70e3"
      },
      "execution_count": null,
      "outputs": [
        {
          "output_type": "stream",
          "name": "stdout",
          "text": [
            "# OF TIMESTEPS IN DATA:  1684.0\n",
            "SHAPE OF X before timestep reshaping: (90936, 101)\n",
            "SHAPE OF y before timestep reshaping: (90936, 33)\n",
            "SHAPE OF scaled_X_train after timestep reshaping: (1684, 54, 101)\n",
            "SHAPE OF scaled_Y_train after timestep reshaping: (1684, 54, 33)\n"
          ]
        }
      ]
    },
    {
      "cell_type": "markdown",
      "source": [
        "#Import Libraries Needed for Building Hybrid CNN and LSTM"
      ],
      "metadata": {
        "id": "Bbei963grWRG"
      }
    },
    {
      "cell_type": "code",
      "source": [
        "from tensorflow.keras.models import Sequential, load_model\n",
        "from tensorflow.keras.layers import Dense, Conv1D, LSTM, TimeDistributed, BatchNormalization, Dropout\n",
        "from sklearn.model_selection import train_test_split\n",
        "from tensorflow.keras.optimizers import Nadam, Adam, RMSprop, Adagrad\n",
        "from tensorflow.keras.callbacks import EarlyStopping\n",
        "from sklearn.metrics import mean_squared_error, mean_absolute_error\n",
        "import os\n",
        "import math"
      ],
      "metadata": {
        "id": "xy4HCq3DbUq8"
      },
      "execution_count": null,
      "outputs": []
    },
    {
      "cell_type": "markdown",
      "source": [
        "#Build Hybrid Model Containing CNN Layers, Normalizing Layers, and a LSTM layer"
      ],
      "metadata": {
        "id": "4hABADmyrcCS"
      }
    },
    {
      "cell_type": "code",
      "source": [
        "cnn_lstm_model = Sequential(layers=[\n",
        "      Conv1D(64, 3, activation=\"relu\", padding=\"same\", input_shape=(54, scaled_X_train.shape[2])),\n",
        "      BatchNormalization(),\n",
        "      Dropout(0.2),\n",
        "\n",
        "      Conv1D(128, 9, activation=\"relu\", padding=\"same\"),\n",
        "      BatchNormalization(),\n",
        "      Dropout(0.2),\n",
        "\n",
        "      LSTM(50, activation='tanh', return_sequences=True, dropout=0.2, recurrent_dropout=0.2),\n",
        "      TimeDistributed(Dense(33)),\n",
        "  ])\n",
        "\n",
        "cnn_lstm_model.compile(optimizer=Nadam(learning_rate=0.001), loss='mse')"
      ],
      "metadata": {
        "id": "D8noBaSErmpf"
      },
      "execution_count": null,
      "outputs": []
    },
    {
      "cell_type": "markdown",
      "source": [
        "#Split Training Data into training and validation"
      ],
      "metadata": {
        "id": "6SjlMXmh_T2K"
      }
    },
    {
      "cell_type": "code",
      "source": [
        "X_train, X_val, y_train, y_val = train_test_split(scaled_X_train, scaled_Y_train, test_size=0.2)"
      ],
      "metadata": {
        "id": "48iEcylI_mFe"
      },
      "execution_count": null,
      "outputs": []
    },
    {
      "cell_type": "markdown",
      "source": [
        "#Fit Model with Training and Validation Data"
      ],
      "metadata": {
        "id": "nI_r5rakLW5B"
      }
    },
    {
      "cell_type": "code",
      "source": [
        "import matplotlib.pyplot as plotter\n",
        "import time\n",
        "\n",
        "early_stop = EarlyStopping(monitor='val_loss', patience=15, restore_best_weights=True)\n",
        "\n",
        "start = time.time()\n",
        "\n",
        "if os.path.exists('cnn_lstm_model-BEST.keras'):\n",
        "    cnn_lstm_model = load_model('cnn_lstm_model-BEST.keras')\n",
        "else:\n",
        "  model_history = cnn_lstm_model.fit(X_train, y_train, epochs=1000, batch_size=32, validation_data=(X_val, y_val), verbose=1, callbacks=[early_stop])\n",
        "  print(\"%ss\" % (time.time() - start))\n",
        "\n",
        "  plotter.plot(model_history.history['loss'])\n",
        "  plotter.plot(model_history.history['val_loss'])\n",
        "  plotter.title(\"Hybrid CNN LSTM Model Loss\")\n",
        "  plotter.xlabel(\"Epoch\")\n",
        "  plotter.ylabel(\"Loss\")\n",
        "  plotter.legend(['Train', 'Validation'])\n",
        "  plotter.show()"
      ],
      "metadata": {
        "id": "C1y-8unzLZw0"
      },
      "execution_count": null,
      "outputs": []
    },
    {
      "cell_type": "markdown",
      "source": [
        "#Read in Test Data"
      ],
      "metadata": {
        "id": "JJIkHiVosv4q"
      }
    },
    {
      "cell_type": "code",
      "source": [
        "test_data = pd.read_csv('test.csv')"
      ],
      "metadata": {
        "id": "8cKxxAFdsxQW"
      },
      "execution_count": null,
      "outputs": []
    },
    {
      "cell_type": "markdown",
      "source": [
        "#Prepare Test Data for Model"
      ],
      "metadata": {
        "id": "nvz8oWK1reyn"
      }
    },
    {
      "cell_type": "code",
      "source": [
        "#PRE-PROCESSING TRAINING DATA\n",
        "\n",
        "grouped_test_onpromotion = test_data.pivot_table(index=['date', 'store_nbr'], columns='family', values='onpromotion', aggfunc='sum')\n",
        "\n",
        "grouped_test_onpromotion.columns = [f'{column}_ONPROMOTION' for column in grouped_test_onpromotion.columns]\n",
        "\n",
        "cleaned_test_data = pd.concat([grouped_test_onpromotion], axis=1).reset_index()\n",
        "\n",
        "cleaned_test_data['date'] = pd.to_datetime(cleaned_test_data['date'])\n",
        "\n",
        "#MERGING OIL DATA COLUMNS\n",
        "\n",
        "cleaned_test_data = pd.merge(cleaned_test_data, oil_data, on='date', how='left')\n",
        "\n",
        "#MERGING STORE DATA COLUMNS\n",
        "\n",
        "#using left join to retain all the values from cleaned_test_data and just add the values from store_data to it\n",
        "cleaned_test_data = pd.merge(cleaned_test_data, store_data, on='store_nbr', how='left')\n",
        "\n",
        "#MERGING TRANSACTION DATA COLUMN\n",
        "\n",
        "#MERGING HOLIDAY EVENTS DATA\n",
        "\n",
        "holiday_events_data['month_day'] = holiday_events_data['date'].dt.strftime('%m-%d')\n",
        "cleaned_test_data['month_day'] = cleaned_test_data['date'].dt.strftime('%m-%d')\n",
        "\n",
        "holiday_month_days = set(holiday_events_data['month_day'])\n",
        "\n",
        "cleaned_test_data['has_holiday'] = cleaned_test_data['month_day'].apply(lambda x: 1 if x in holiday_month_days else 0)\n",
        "\n",
        "cleaned_test_data.drop('month_day', axis=1, inplace=True)\n",
        "\n",
        "#Also using holiday dates to count the days until the next day in order to capture the correlation between the ramp up in sales to the occurence of the holiday. The holiday metric above isn't cutting it. Going to use a falg of three days, 1 week, and 2 weeks.\n",
        "\n",
        "holiday_dates = cleaned_test_data[cleaned_test_data['has_holiday'] == 1]['date'].unique()\n",
        "\n",
        "cleaned_test_data['three_days_before_holiday'] = 0\n",
        "cleaned_test_data['one_week_before_holiday'] = 0\n",
        "cleaned_test_data['two_weeks_before_holiday'] = 0\n",
        "cleaned_test_data['three_weeks_before_holiday'] = 0\n",
        "\n",
        "for holiday in holiday_dates:\n",
        "    three_days_before = holiday - pd.Timedelta(days=3)\n",
        "    one_week_before = holiday - pd.Timedelta(days=7)\n",
        "    two_weeks_before = holiday - pd.Timedelta(days=14)\n",
        "    three_weeks_before = holiday - pd.Timedelta(days=21)\n",
        "\n",
        "    mask_three_days = (cleaned_test_data['date'] >= three_days_before) & (cleaned_test_data['date'] < holiday)\n",
        "    cleaned_test_data.loc[mask_three_days, 'three_days_before_holiday'] = 1\n",
        "\n",
        "    mask_one_week = (cleaned_test_data['date'] >= one_week_before) & (cleaned_test_data['date'] < holiday)\n",
        "    cleaned_test_data.loc[mask_one_week, 'one_week_before_holiday'] = 1\n",
        "\n",
        "    mask_two_weeks = (cleaned_test_data['date'] >= two_weeks_before) & (cleaned_test_data['date'] < one_week_before)\n",
        "    cleaned_test_data.loc[mask_two_weeks, 'two_weeks_before_holiday'] = 1\n",
        "\n",
        "    mask_three_weeks = (cleaned_test_data['date'] >= three_weeks_before) & (cleaned_test_data['date'] < two_weeks_before)\n",
        "    cleaned_test_data.loc[mask_three_weeks, 'three_weeks_before_holiday'] = 1\n",
        "\n",
        "cleaned_test_data.loc[cleaned_test_data['has_holiday'] == 1, ['three_days_before_holiday', 'one_week_before_holiday', 'two_weeks_before_holiday', 'three_weeks_before_holiday']] = 0\n",
        "\n",
        "#CONVERTING DATE INTO SEPERATE FEATURES\n",
        "cleaned_test_data['dow'] = cleaned_test_data['date'].dt.dayofweek\n",
        "cleaned_test_data['month'] = cleaned_test_data['date'].dt.month\n",
        "cleaned_test_data['num_date'] = cleaned_test_data['date'].dt.day\n",
        "cleaned_test_data['year'] = cleaned_test_data['date'].dt.year\n",
        "\n",
        "#USING LABEL ENCODING TO CONVERT STORE LOCATIONS AND HOLIDAY LOCATIONS INTO NUMERICAL REPRESENTATIONS\n",
        "label_encoder = LabelEncoder()\n",
        "label_encoder.fit(pd.concat([cleaned_test_data['city'], cleaned_test_data['state']]))\n",
        "\n",
        "cleaned_test_data['city'] = label_encoder.transform(cleaned_test_data['city'])\n",
        "cleaned_test_data['state'] = label_encoder.transform(cleaned_test_data['state'])\n",
        "\n",
        "#USING LABEL ENCODING TO CONVERT STORE TYPE TO A NUMERICAL REPRESENTATION\n",
        "cleaned_test_data['type'] = LabelEncoder().fit_transform(cleaned_test_data['type'])\n",
        "\n",
        "#One-Hot Encoding Store Nbr to avoid possible relationships from forming when trianing model\n",
        "cleaned_test_data = pd.get_dummies(cleaned_test_data, columns=['store_nbr'])\n",
        "\n",
        "cleaned_test_data.head()"
      ],
      "metadata": {
        "colab": {
          "base_uri": "https://localhost:8080/"
        },
        "id": "nC1mMg59rkiG",
        "outputId": "07c4c3a3-cec8-4110-ee32-a79661c1583a"
      },
      "execution_count": null,
      "outputs": [
        {
          "output_type": "execute_result",
          "data": {
            "text/plain": [
              "        date  AUTOMOTIVE_ONPROMOTION  BABY CARE_ONPROMOTION  \\\n",
              "0 2017-08-16                       0                      0   \n",
              "1 2017-08-16                       0                      0   \n",
              "2 2017-08-16                       0                      0   \n",
              "3 2017-08-16                       0                      0   \n",
              "4 2017-08-16                       0                      0   \n",
              "\n",
              "   BEAUTY_ONPROMOTION  BEVERAGES_ONPROMOTION  BOOKS_ONPROMOTION  \\\n",
              "0                   2                     20                  0   \n",
              "1                   2                     23                  0   \n",
              "2                   2                     21                  0   \n",
              "3                   2                     21                  0   \n",
              "4                   2                     20                  0   \n",
              "\n",
              "   BREAD/BAKERY_ONPROMOTION  CELEBRATION_ONPROMOTION  CLEANING_ONPROMOTION  \\\n",
              "0                        12                        0                    25   \n",
              "1                        12                        0                    22   \n",
              "2                        12                        0                    22   \n",
              "3                        12                        0                    23   \n",
              "4                        12                        0                    24   \n",
              "\n",
              "   DAIRY_ONPROMOTION  ...  store_nbr_45  store_nbr_46  store_nbr_47  \\\n",
              "0                 45  ...         False         False         False   \n",
              "1                 41  ...         False         False         False   \n",
              "2                 37  ...         False         False         False   \n",
              "3                 43  ...         False         False         False   \n",
              "4                 42  ...         False         False         False   \n",
              "\n",
              "   store_nbr_48  store_nbr_49  store_nbr_50  store_nbr_51  store_nbr_52  \\\n",
              "0         False         False         False         False         False   \n",
              "1         False         False         False         False         False   \n",
              "2         False         False         False         False         False   \n",
              "3         False         False         False         False         False   \n",
              "4         False         False         False         False         False   \n",
              "\n",
              "   store_nbr_53  store_nbr_54  \n",
              "0         False         False  \n",
              "1         False         False  \n",
              "2         False         False  \n",
              "3         False         False  \n",
              "4         False         False  \n",
              "\n",
              "[5 rows x 102 columns]"
            ],
            "text/html": [
              "\n",
              "  <div id=\"df-2f205e87-6585-43f7-a662-65a9d426f8c2\" class=\"colab-df-container\">\n",
              "    <div>\n",
              "<style scoped>\n",
              "    .dataframe tbody tr th:only-of-type {\n",
              "        vertical-align: middle;\n",
              "    }\n",
              "\n",
              "    .dataframe tbody tr th {\n",
              "        vertical-align: top;\n",
              "    }\n",
              "\n",
              "    .dataframe thead th {\n",
              "        text-align: right;\n",
              "    }\n",
              "</style>\n",
              "<table border=\"1\" class=\"dataframe\">\n",
              "  <thead>\n",
              "    <tr style=\"text-align: right;\">\n",
              "      <th></th>\n",
              "      <th>date</th>\n",
              "      <th>AUTOMOTIVE_ONPROMOTION</th>\n",
              "      <th>BABY CARE_ONPROMOTION</th>\n",
              "      <th>BEAUTY_ONPROMOTION</th>\n",
              "      <th>BEVERAGES_ONPROMOTION</th>\n",
              "      <th>BOOKS_ONPROMOTION</th>\n",
              "      <th>BREAD/BAKERY_ONPROMOTION</th>\n",
              "      <th>CELEBRATION_ONPROMOTION</th>\n",
              "      <th>CLEANING_ONPROMOTION</th>\n",
              "      <th>DAIRY_ONPROMOTION</th>\n",
              "      <th>...</th>\n",
              "      <th>store_nbr_45</th>\n",
              "      <th>store_nbr_46</th>\n",
              "      <th>store_nbr_47</th>\n",
              "      <th>store_nbr_48</th>\n",
              "      <th>store_nbr_49</th>\n",
              "      <th>store_nbr_50</th>\n",
              "      <th>store_nbr_51</th>\n",
              "      <th>store_nbr_52</th>\n",
              "      <th>store_nbr_53</th>\n",
              "      <th>store_nbr_54</th>\n",
              "    </tr>\n",
              "  </thead>\n",
              "  <tbody>\n",
              "    <tr>\n",
              "      <th>0</th>\n",
              "      <td>2017-08-16</td>\n",
              "      <td>0</td>\n",
              "      <td>0</td>\n",
              "      <td>2</td>\n",
              "      <td>20</td>\n",
              "      <td>0</td>\n",
              "      <td>12</td>\n",
              "      <td>0</td>\n",
              "      <td>25</td>\n",
              "      <td>45</td>\n",
              "      <td>...</td>\n",
              "      <td>False</td>\n",
              "      <td>False</td>\n",
              "      <td>False</td>\n",
              "      <td>False</td>\n",
              "      <td>False</td>\n",
              "      <td>False</td>\n",
              "      <td>False</td>\n",
              "      <td>False</td>\n",
              "      <td>False</td>\n",
              "      <td>False</td>\n",
              "    </tr>\n",
              "    <tr>\n",
              "      <th>1</th>\n",
              "      <td>2017-08-16</td>\n",
              "      <td>0</td>\n",
              "      <td>0</td>\n",
              "      <td>2</td>\n",
              "      <td>23</td>\n",
              "      <td>0</td>\n",
              "      <td>12</td>\n",
              "      <td>0</td>\n",
              "      <td>22</td>\n",
              "      <td>41</td>\n",
              "      <td>...</td>\n",
              "      <td>False</td>\n",
              "      <td>False</td>\n",
              "      <td>False</td>\n",
              "      <td>False</td>\n",
              "      <td>False</td>\n",
              "      <td>False</td>\n",
              "      <td>False</td>\n",
              "      <td>False</td>\n",
              "      <td>False</td>\n",
              "      <td>False</td>\n",
              "    </tr>\n",
              "    <tr>\n",
              "      <th>2</th>\n",
              "      <td>2017-08-16</td>\n",
              "      <td>0</td>\n",
              "      <td>0</td>\n",
              "      <td>2</td>\n",
              "      <td>21</td>\n",
              "      <td>0</td>\n",
              "      <td>12</td>\n",
              "      <td>0</td>\n",
              "      <td>22</td>\n",
              "      <td>37</td>\n",
              "      <td>...</td>\n",
              "      <td>False</td>\n",
              "      <td>False</td>\n",
              "      <td>False</td>\n",
              "      <td>False</td>\n",
              "      <td>False</td>\n",
              "      <td>False</td>\n",
              "      <td>False</td>\n",
              "      <td>False</td>\n",
              "      <td>False</td>\n",
              "      <td>False</td>\n",
              "    </tr>\n",
              "    <tr>\n",
              "      <th>3</th>\n",
              "      <td>2017-08-16</td>\n",
              "      <td>0</td>\n",
              "      <td>0</td>\n",
              "      <td>2</td>\n",
              "      <td>21</td>\n",
              "      <td>0</td>\n",
              "      <td>12</td>\n",
              "      <td>0</td>\n",
              "      <td>23</td>\n",
              "      <td>43</td>\n",
              "      <td>...</td>\n",
              "      <td>False</td>\n",
              "      <td>False</td>\n",
              "      <td>False</td>\n",
              "      <td>False</td>\n",
              "      <td>False</td>\n",
              "      <td>False</td>\n",
              "      <td>False</td>\n",
              "      <td>False</td>\n",
              "      <td>False</td>\n",
              "      <td>False</td>\n",
              "    </tr>\n",
              "    <tr>\n",
              "      <th>4</th>\n",
              "      <td>2017-08-16</td>\n",
              "      <td>0</td>\n",
              "      <td>0</td>\n",
              "      <td>2</td>\n",
              "      <td>20</td>\n",
              "      <td>0</td>\n",
              "      <td>12</td>\n",
              "      <td>0</td>\n",
              "      <td>24</td>\n",
              "      <td>42</td>\n",
              "      <td>...</td>\n",
              "      <td>False</td>\n",
              "      <td>False</td>\n",
              "      <td>False</td>\n",
              "      <td>False</td>\n",
              "      <td>False</td>\n",
              "      <td>False</td>\n",
              "      <td>False</td>\n",
              "      <td>False</td>\n",
              "      <td>False</td>\n",
              "      <td>False</td>\n",
              "    </tr>\n",
              "  </tbody>\n",
              "</table>\n",
              "<p>5 rows × 102 columns</p>\n",
              "</div>\n",
              "    <div class=\"colab-df-buttons\">\n",
              "\n",
              "  <div class=\"colab-df-container\">\n",
              "    <button class=\"colab-df-convert\" onclick=\"convertToInteractive('df-2f205e87-6585-43f7-a662-65a9d426f8c2')\"\n",
              "            title=\"Convert this dataframe to an interactive table.\"\n",
              "            style=\"display:none;\">\n",
              "\n",
              "  <svg xmlns=\"http://www.w3.org/2000/svg\" height=\"24px\" viewBox=\"0 -960 960 960\">\n",
              "    <path d=\"M120-120v-720h720v720H120Zm60-500h600v-160H180v160Zm220 220h160v-160H400v160Zm0 220h160v-160H400v160ZM180-400h160v-160H180v160Zm440 0h160v-160H620v160ZM180-180h160v-160H180v160Zm440 0h160v-160H620v160Z\"/>\n",
              "  </svg>\n",
              "    </button>\n",
              "\n",
              "  <style>\n",
              "    .colab-df-container {\n",
              "      display:flex;\n",
              "      gap: 12px;\n",
              "    }\n",
              "\n",
              "    .colab-df-convert {\n",
              "      background-color: #E8F0FE;\n",
              "      border: none;\n",
              "      border-radius: 50%;\n",
              "      cursor: pointer;\n",
              "      display: none;\n",
              "      fill: #1967D2;\n",
              "      height: 32px;\n",
              "      padding: 0 0 0 0;\n",
              "      width: 32px;\n",
              "    }\n",
              "\n",
              "    .colab-df-convert:hover {\n",
              "      background-color: #E2EBFA;\n",
              "      box-shadow: 0px 1px 2px rgba(60, 64, 67, 0.3), 0px 1px 3px 1px rgba(60, 64, 67, 0.15);\n",
              "      fill: #174EA6;\n",
              "    }\n",
              "\n",
              "    .colab-df-buttons div {\n",
              "      margin-bottom: 4px;\n",
              "    }\n",
              "\n",
              "    [theme=dark] .colab-df-convert {\n",
              "      background-color: #3B4455;\n",
              "      fill: #D2E3FC;\n",
              "    }\n",
              "\n",
              "    [theme=dark] .colab-df-convert:hover {\n",
              "      background-color: #434B5C;\n",
              "      box-shadow: 0px 1px 3px 1px rgba(0, 0, 0, 0.15);\n",
              "      filter: drop-shadow(0px 1px 2px rgba(0, 0, 0, 0.3));\n",
              "      fill: #FFFFFF;\n",
              "    }\n",
              "  </style>\n",
              "\n",
              "    <script>\n",
              "      const buttonEl =\n",
              "        document.querySelector('#df-2f205e87-6585-43f7-a662-65a9d426f8c2 button.colab-df-convert');\n",
              "      buttonEl.style.display =\n",
              "        google.colab.kernel.accessAllowed ? 'block' : 'none';\n",
              "\n",
              "      async function convertToInteractive(key) {\n",
              "        const element = document.querySelector('#df-2f205e87-6585-43f7-a662-65a9d426f8c2');\n",
              "        const dataTable =\n",
              "          await google.colab.kernel.invokeFunction('convertToInteractive',\n",
              "                                                    [key], {});\n",
              "        if (!dataTable) return;\n",
              "\n",
              "        const docLinkHtml = 'Like what you see? Visit the ' +\n",
              "          '<a target=\"_blank\" href=https://colab.research.google.com/notebooks/data_table.ipynb>data table notebook</a>'\n",
              "          + ' to learn more about interactive tables.';\n",
              "        element.innerHTML = '';\n",
              "        dataTable['output_type'] = 'display_data';\n",
              "        await google.colab.output.renderOutput(dataTable, element);\n",
              "        const docLink = document.createElement('div');\n",
              "        docLink.innerHTML = docLinkHtml;\n",
              "        element.appendChild(docLink);\n",
              "      }\n",
              "    </script>\n",
              "  </div>\n",
              "\n",
              "\n",
              "<div id=\"df-ae2eddaa-44d9-4f68-862e-091ab37320ad\">\n",
              "  <button class=\"colab-df-quickchart\" onclick=\"quickchart('df-ae2eddaa-44d9-4f68-862e-091ab37320ad')\"\n",
              "            title=\"Suggest charts\"\n",
              "            style=\"display:none;\">\n",
              "\n",
              "<svg xmlns=\"http://www.w3.org/2000/svg\" height=\"24px\"viewBox=\"0 0 24 24\"\n",
              "     width=\"24px\">\n",
              "    <g>\n",
              "        <path d=\"M19 3H5c-1.1 0-2 .9-2 2v14c0 1.1.9 2 2 2h14c1.1 0 2-.9 2-2V5c0-1.1-.9-2-2-2zM9 17H7v-7h2v7zm4 0h-2V7h2v10zm4 0h-2v-4h2v4z\"/>\n",
              "    </g>\n",
              "</svg>\n",
              "  </button>\n",
              "\n",
              "<style>\n",
              "  .colab-df-quickchart {\n",
              "      --bg-color: #E8F0FE;\n",
              "      --fill-color: #1967D2;\n",
              "      --hover-bg-color: #E2EBFA;\n",
              "      --hover-fill-color: #174EA6;\n",
              "      --disabled-fill-color: #AAA;\n",
              "      --disabled-bg-color: #DDD;\n",
              "  }\n",
              "\n",
              "  [theme=dark] .colab-df-quickchart {\n",
              "      --bg-color: #3B4455;\n",
              "      --fill-color: #D2E3FC;\n",
              "      --hover-bg-color: #434B5C;\n",
              "      --hover-fill-color: #FFFFFF;\n",
              "      --disabled-bg-color: #3B4455;\n",
              "      --disabled-fill-color: #666;\n",
              "  }\n",
              "\n",
              "  .colab-df-quickchart {\n",
              "    background-color: var(--bg-color);\n",
              "    border: none;\n",
              "    border-radius: 50%;\n",
              "    cursor: pointer;\n",
              "    display: none;\n",
              "    fill: var(--fill-color);\n",
              "    height: 32px;\n",
              "    padding: 0;\n",
              "    width: 32px;\n",
              "  }\n",
              "\n",
              "  .colab-df-quickchart:hover {\n",
              "    background-color: var(--hover-bg-color);\n",
              "    box-shadow: 0 1px 2px rgba(60, 64, 67, 0.3), 0 1px 3px 1px rgba(60, 64, 67, 0.15);\n",
              "    fill: var(--button-hover-fill-color);\n",
              "  }\n",
              "\n",
              "  .colab-df-quickchart-complete:disabled,\n",
              "  .colab-df-quickchart-complete:disabled:hover {\n",
              "    background-color: var(--disabled-bg-color);\n",
              "    fill: var(--disabled-fill-color);\n",
              "    box-shadow: none;\n",
              "  }\n",
              "\n",
              "  .colab-df-spinner {\n",
              "    border: 2px solid var(--fill-color);\n",
              "    border-color: transparent;\n",
              "    border-bottom-color: var(--fill-color);\n",
              "    animation:\n",
              "      spin 1s steps(1) infinite;\n",
              "  }\n",
              "\n",
              "  @keyframes spin {\n",
              "    0% {\n",
              "      border-color: transparent;\n",
              "      border-bottom-color: var(--fill-color);\n",
              "      border-left-color: var(--fill-color);\n",
              "    }\n",
              "    20% {\n",
              "      border-color: transparent;\n",
              "      border-left-color: var(--fill-color);\n",
              "      border-top-color: var(--fill-color);\n",
              "    }\n",
              "    30% {\n",
              "      border-color: transparent;\n",
              "      border-left-color: var(--fill-color);\n",
              "      border-top-color: var(--fill-color);\n",
              "      border-right-color: var(--fill-color);\n",
              "    }\n",
              "    40% {\n",
              "      border-color: transparent;\n",
              "      border-right-color: var(--fill-color);\n",
              "      border-top-color: var(--fill-color);\n",
              "    }\n",
              "    60% {\n",
              "      border-color: transparent;\n",
              "      border-right-color: var(--fill-color);\n",
              "    }\n",
              "    80% {\n",
              "      border-color: transparent;\n",
              "      border-right-color: var(--fill-color);\n",
              "      border-bottom-color: var(--fill-color);\n",
              "    }\n",
              "    90% {\n",
              "      border-color: transparent;\n",
              "      border-bottom-color: var(--fill-color);\n",
              "    }\n",
              "  }\n",
              "</style>\n",
              "\n",
              "  <script>\n",
              "    async function quickchart(key) {\n",
              "      const quickchartButtonEl =\n",
              "        document.querySelector('#' + key + ' button');\n",
              "      quickchartButtonEl.disabled = true;  // To prevent multiple clicks.\n",
              "      quickchartButtonEl.classList.add('colab-df-spinner');\n",
              "      try {\n",
              "        const charts = await google.colab.kernel.invokeFunction(\n",
              "            'suggestCharts', [key], {});\n",
              "      } catch (error) {\n",
              "        console.error('Error during call to suggestCharts:', error);\n",
              "      }\n",
              "      quickchartButtonEl.classList.remove('colab-df-spinner');\n",
              "      quickchartButtonEl.classList.add('colab-df-quickchart-complete');\n",
              "    }\n",
              "    (() => {\n",
              "      let quickchartButtonEl =\n",
              "        document.querySelector('#df-ae2eddaa-44d9-4f68-862e-091ab37320ad button');\n",
              "      quickchartButtonEl.style.display =\n",
              "        google.colab.kernel.accessAllowed ? 'block' : 'none';\n",
              "    })();\n",
              "  </script>\n",
              "</div>\n",
              "\n",
              "    </div>\n",
              "  </div>\n"
            ],
            "application/vnd.google.colaboratory.intrinsic+json": {
              "type": "dataframe",
              "variable_name": "cleaned_test_data"
            }
          },
          "metadata": {},
          "execution_count": 52
        }
      ]
    },
    {
      "cell_type": "code",
      "source": [
        "print(len(cleaned_test_data))"
      ],
      "metadata": {
        "colab": {
          "base_uri": "https://localhost:8080/"
        },
        "id": "OeKhxeeQRGpB",
        "outputId": "3ae9af7c-cbab-4045-af26-5ae684e61fd1"
      },
      "execution_count": null,
      "outputs": [
        {
          "output_type": "stream",
          "name": "stdout",
          "text": [
            "864\n"
          ]
        }
      ]
    },
    {
      "cell_type": "markdown",
      "source": [
        "#Scale Cleaned Test Data"
      ],
      "metadata": {
        "id": "YYDcLkSNvypC"
      }
    },
    {
      "cell_type": "code",
      "source": [
        "X_test = np.log1p(cleaned_test_data.drop('date', axis=1))\n",
        "\n",
        "scaled_X_test = x_data_scaler.transform(X_test)\n",
        "\n",
        "print(\"SHAPE OF SCALED_X_TEST BEFORE RESHAPING:\", scaled_X_test.shape)\n",
        "\n",
        "scaled_X_test = scaled_X_test.reshape(((int(len(scaled_X_test)/54)), 54, scaled_X_test.shape[1]))\n",
        "\n",
        "print(\"SHAPE OF SCALED_X_TEST AFTER RESHAPING:\", scaled_X_test.shape)"
      ],
      "metadata": {
        "colab": {
          "base_uri": "https://localhost:8080/"
        },
        "id": "HNT07FbRvyX6",
        "outputId": "3dd0fc61-7c83-40b1-b442-d27f24a529fd"
      },
      "execution_count": null,
      "outputs": [
        {
          "output_type": "stream",
          "name": "stdout",
          "text": [
            "SHAPE OF SCALED_X_TEST BEFORE RESHAPING: (864, 101)\n",
            "SHAPE OF SCALED_X_TEST AFTER RESHAPING: (16, 54, 101)\n"
          ]
        }
      ]
    },
    {
      "cell_type": "markdown",
      "source": [
        "#Predict Values for Train Set"
      ],
      "metadata": {
        "id": "rAGxsWT3nmuk"
      }
    },
    {
      "cell_type": "code",
      "source": [
        "predicted_vals = cnn_lstm_model.predict(scaled_X_train)\n",
        "\n",
        "predicted_train_vals_rescaled = y_data_scaler.inverse_transform(predicted_vals.reshape(-1, predicted_vals.shape[-1]))\n",
        "\n",
        "predicted_train_vals_rescaled[predicted_train_vals_rescaled < 0] = 0\n",
        "\n",
        "y_train_rescaled = y_data_scaler.inverse_transform(scaled_Y_train.reshape(-1, scaled_Y_train.shape[-1]))\n"
      ],
      "metadata": {
        "colab": {
          "base_uri": "https://localhost:8080/"
        },
        "id": "DJbf6z2DT9Ga",
        "outputId": "fa91bec3-c318-4770-c9b3-142f501fe30e"
      },
      "execution_count": null,
      "outputs": [
        {
          "output_type": "stream",
          "name": "stdout",
          "text": [
            "53/53 [==============================] - 1s 20ms/step\n"
          ]
        }
      ]
    },
    {
      "cell_type": "markdown",
      "source": [
        "#Calculating MAE of Model Predictions on Training Data"
      ],
      "metadata": {
        "id": "Ht1jUdTy3eYg"
      }
    },
    {
      "cell_type": "code",
      "source": [
        "mae = mean_absolute_error(predicted_train_vals_rescaled, y_train_rescaled)\n",
        "print(f\"MAE on Rescaled Training Data: {mae}\")\n",
        "\n",
        "rmse = math.sqrt(mean_squared_error(predicted_train_vals_rescaled, y_train_rescaled))\n",
        "print(f\"RMSE on Rescaled Training Data: {rmse}\")\n",
        "\n",
        "total_predicted_sales = np.sum(predicted_train_vals_rescaled, axis=1)\n",
        "\n",
        "total_actual_sales = np.sum(y_train_rescaled, axis=1)\n",
        "\n",
        "pred_df_copy = cleaned_train_data.drop(columns=cleaned_train_data.columns.difference(['date']))\n",
        "\n",
        "pred_df_copy['predicted_sales'] = total_predicted_sales\n",
        "\n",
        "actual_df_copy = cleaned_train_data.drop(columns=cleaned_train_data.columns.difference(['date']))\n",
        "\n",
        "actual_df_copy['actual_sales'] = total_actual_sales\n",
        "\n",
        "\n",
        "plotter.figure(figsize=(15, 6))\n",
        "plotter.plot(actual_df_copy['date'], actual_df_copy['actual_sales'], label='Actual Sales', color='red', linewidth=1)\n",
        "plotter.plot(pred_df_copy['date'], pred_df_copy['predicted_sales'], label='Predicted Sales', color='blue', linewidth=1)\n",
        "plotter.title(\"Model Sales Predictions vs. Actual Sales\")\n",
        "plotter.xlabel(\"Date\")\n",
        "plotter.ylabel(\"Sales\")\n",
        "plotter.legend()\n",
        "plotter.show()\n",
        "\n",
        "pred_df_copy['month'] = pred_df_copy['date'].dt.to_period('M')\n",
        "monthly_pred = pred_df_copy.groupby('month')['predicted_sales'].sum()\n",
        "actual_df_copy['month'] = actual_df_copy['date'].dt.to_period('M')\n",
        "monthly_actual = actual_df_copy.groupby('month')['actual_sales'].sum()\n",
        "\n",
        "plotter.figure(figsize=(15, 6))\n",
        "plotter.plot(monthly_pred.index.to_timestamp(), monthly_pred, 'b-', label='Monthly Predicted Sales')\n",
        "plotter.plot(monthly_actual.index.to_timestamp(), monthly_actual, 'r-', label='Monthly Actual Sales')\n",
        "plotter.title(\"Aggregated Model Sales Predictions vs. Actual Sales\")\n",
        "plotter.xlabel(\"Date\")\n",
        "plotter.ylabel(\"Aggregated Sales\")\n",
        "plotter.legend()\n",
        "plotter.show()"
      ],
      "metadata": {
        "colab": {
          "base_uri": "https://localhost:8080/",
          "height": 1000
        },
        "id": "07ZI9zSzKHxH",
        "outputId": "9e3a33fd-4d02-4a73-bcc2-ce7c07d595c3"
      },
      "execution_count": null,
      "outputs": [
        {
          "output_type": "stream",
          "name": "stdout",
          "text": [
            "MAE on Rescaled Training Data: 58.26003076830592\n",
            "RMSE on Rescaled Training Data: 257.2592836772915\n"
          ]
        },
        {
          "output_type": "display_data",
          "data": {
            "text/plain": [
              "<Figure size 1500x600 with 1 Axes>"
            ],
            "image/png": "[encoded data removed]"
          },
          "metadata": {}
        },
        {
          "output_type": "display_data",
          "data": {
            "text/plain": [
              "<Figure size 1500x600 with 1 Axes>"
            ],
            "image/png": "[encoded data removed]"
          },
          "metadata": {}
        }
      ]
    },
    {
      "cell_type": "code",
      "source": [
        "overestimated = 0\n",
        "underestimated = 0\n",
        "\n",
        "for i, pred in enumerate(monthly_pred):\n",
        "    if monthly_actual[i] - monthly_pred[i] >= 0:\n",
        "        underestimated += 1\n",
        "    else:\n",
        "        overestimated += 1\n",
        "\n",
        "print(f\"Overestimated: {overestimated}\")\n",
        "print(f\"Underestimated: {underestimated}\")"
      ],
      "metadata": {
        "colab": {
          "base_uri": "https://localhost:8080/"
        },
        "id": "5zh252j6hMd3",
        "outputId": "ec26a7b2-b5cd-45c7-fcb3-ae62b09dac15"
      },
      "execution_count": null,
      "outputs": [
        {
          "output_type": "stream",
          "name": "stdout",
          "text": [
            "Overestimated: 20\n",
            "Underestimated: 36\n"
          ]
        }
      ]
    },
    {
      "cell_type": "markdown",
      "source": [
        "#Predict Values for Test Set"
      ],
      "metadata": {
        "id": "SMNAXyO23l3G"
      }
    },
    {
      "cell_type": "code",
      "source": [
        "predicted_vals = cnn_lstm_model.predict(scaled_X_test)\n",
        "\n",
        "predicted_test_vals_rescaled = y_data_scaler.inverse_transform(predicted_vals.reshape(-1, predicted_vals.shape[-1]))"
      ],
      "metadata": {
        "colab": {
          "base_uri": "https://localhost:8080/"
        },
        "id": "IHQLfzle3oDM",
        "outputId": "edbb7314-3e71-49ce-8b9a-c8d195dcc6a1"
      },
      "execution_count": null,
      "outputs": [
        {
          "output_type": "stream",
          "name": "stdout",
          "text": [
            "1/1 [==============================] - 0s 69ms/step\n"
          ]
        }
      ]
    },
    {
      "cell_type": "markdown",
      "source": [
        "#Assemble Predictions into Submission CSV"
      ],
      "metadata": {
        "id": "_tl_cJeZFiJB"
      }
    },
    {
      "cell_type": "code",
      "source": [
        "submission_dataframe = pd.DataFrame()\n",
        "\n",
        "submission_dataframe['id'] = test_data['id']\n",
        "\n",
        "submission_dataframe['sales'] = predicted_test_vals_rescaled.flatten()\n",
        "\n",
        "submission_dataframe.to_csv('submission.csv', index=False)"
      ],
      "metadata": {
        "id": "XyKjtw6wFler"
      },
      "execution_count": null,
      "outputs": []
    }
  ]
}